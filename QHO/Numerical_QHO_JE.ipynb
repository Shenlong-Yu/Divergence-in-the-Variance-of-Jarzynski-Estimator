{
 "cells": [
  {
   "attachments": {},
   "cell_type": "markdown",
   "metadata": {},
   "source": [
    "# Numerical Calculation: Divergence in the Variance of Jarzynski Estimator of QHO\n",
    "\n"
   ]
  },
  {
   "cell_type": "code",
   "execution_count": null,
   "metadata": {},
   "outputs": [],
   "source": [
    "#front matter\n",
    "import numpy as np\n",
    "import matplotlib.pyplot as plt\n",
    "import math\n",
    "\n",
    "#If your screen has retina display this will increase resolution of plots\n",
    "%config InlineBackend.figure_format = 'retina'"
   ]
  },
  {
   "attachments": {},
   "cell_type": "markdown",
   "metadata": {},
   "source": [
    "## Function Defination"
   ]
  },
  {
   "attachments": {},
   "cell_type": "markdown",
   "metadata": {},
   "source": [
    "### Basic constants"
   ]
  },
  {
   "cell_type": "code",
   "execution_count": null,
   "metadata": {},
   "outputs": [],
   "source": [
    "# grid points\n",
    "N=2000 \n",
    "\n",
    "# spatial grid\n",
    "XMin=-50\n",
    "XMax=50\n",
    "X=np.linspace(XMin, XMax, N)\n",
    "dx = X[1] - X[0]\n",
    "\n",
    "# momentum grid\n",
    "P=(2*np.pi/(XMax-XMin))*np.concatenate((np.arange(N//2), np.arange(-N//2,0))) \n",
    "\n",
    "# simulation points\n",
    "M = 100                   \n",
    "\n",
    "# initial and final conditions\n",
    "w0=0.35\n",
    "w1=1\n",
    "\n",
    "# how many states you want to involve\n",
    "n=30"
   ]
  },
  {
   "attachments": {},
   "cell_type": "markdown",
   "metadata": {},
   "source": [
    "### Eigen matters"
   ]
  },
  {
   "attachments": {},
   "cell_type": "markdown",
   "metadata": {},
   "source": [
    "#### Eigen calculation"
   ]
  },
  {
   "cell_type": "code",
   "execution_count": null,
   "metadata": {},
   "outputs": [],
   "source": [
    "# potential energy\n",
    "def potential(x, w):\n",
    "    return 0.5 * (w * x)**2\n",
    "\n",
    "# Eigen calculation function\n",
    "def Eigen(w):\n",
    "    # define hamiltonian\n",
    "    V= np.diag(potential(X,w), 0)\n",
    "    T = np.diag(np.ones(N), 0)/(dx**2) - 0.5 * np.diag(np.ones((N-1)), 1)/(dx**2) - 0.5 * np.diag(np.ones((N-1)), -1)/(dx**2)\n",
    "    H = T + V\n",
    "    # calculate eigenvalues\n",
    "    eigE_0, eigV_0 = np.linalg.eig(H)  \n",
    "    idx_sorted = np.argsort(eigE_0) \n",
    "    eigE, eigV = eigE_0[idx_sorted], eigV_0[:, idx_sorted]\n",
    "    return eigE,eigV\n",
    "\n",
    "# Eigen matters for initial and final conditions\n",
    "Eigen_0=Eigen(w0)\n",
    "Eigen_1=Eigen(w1)"
   ]
  },
  {
   "attachments": {},
   "cell_type": "markdown",
   "metadata": {},
   "source": [
    "#### Eigenfunction"
   ]
  },
  {
   "cell_type": "code",
   "execution_count": null,
   "metadata": {},
   "outputs": [],
   "source": [
    "# eigenfunction with normalization\n",
    "def psi(w, v):\n",
    "    if w==0:\n",
    "        Psix_0 = Eigen_0[1]\n",
    "    elif w == 1:\n",
    "        Psix_0 = Eigen_1[1]\n",
    "    Psix = Psix_0[:,v]\n",
    "    normal = np.sqrt(sum(abs(Psix)**2))\n",
    "    return Psix/normal"
   ]
  },
  {
   "cell_type": "code",
   "execution_count": null,
   "metadata": {},
   "outputs": [],
   "source": [
    "print(Eigen_1[0][100])"
   ]
  },
  {
   "cell_type": "code",
   "execution_count": null,
   "metadata": {},
   "outputs": [],
   "source": [
    "# plot to see an example\n",
    "plt.plot(X, np.abs(psi(0, 50))**2)  \n",
    "plt.plot(X, np.abs(psi(1, 50))**2)  "
   ]
  },
  {
   "attachments": {},
   "cell_type": "markdown",
   "metadata": {},
   "source": [
    "#### Eigenvalue"
   ]
  },
  {
   "cell_type": "code",
   "execution_count": null,
   "metadata": {},
   "outputs": [],
   "source": [
    "# Eigenvalues \n",
    "def E(w,v):\n",
    "    if w==0:\n",
    "        eigE_0 = Eigen_0[0]\n",
    "    elif w==1:\n",
    "        eigE_0 = Eigen_1[0]\n",
    "    eigE = eigE_0[v]\n",
    "    return eigE"
   ]
  },
  {
   "cell_type": "code",
   "execution_count": null,
   "metadata": {},
   "outputs": [],
   "source": [
    "# see an example\n",
    "print(E(0,1))"
   ]
  },
  {
   "attachments": {},
   "cell_type": "markdown",
   "metadata": {},
   "source": [
    "### Time operator"
   ]
  },
  {
   "cell_type": "code",
   "execution_count": null,
   "metadata": {},
   "outputs": [],
   "source": [
    "def simulation(psi,tau,dt):\n",
    "    M = int(tau/dt)\n",
    "    psi_0 = psi.copy()\n",
    "    for m in range(M):\n",
    "        Vcase=((w0+((w1-w0)/M)*m)*X)**2/2\n",
    "        Tcase=P**2/2\n",
    "        UV = np.exp(-1j*Vcase*dt/2)\n",
    "        UT = np.exp(-1j*Tcase*dt)  \n",
    "        psi_1 = UV*psi_0\n",
    "        phi_2 = np.fft.fft(psi_1)   # wavefunction in momentum space\n",
    "        phi_3 = UT*phi_2\n",
    "        psi_3 = np.fft.ifft(phi_3)\n",
    "        psi_4 = UV*psi_3\n",
    "        psi_0 = psi_4  # prepare a new cycle\n",
    "    psi_final = psi_4.copy()\n",
    "    return psi_final"
   ]
  },
  {
   "cell_type": "code",
   "execution_count": null,
   "metadata": {},
   "outputs": [],
   "source": [
    "# see an example\n",
    "plt.plot(X, np.abs(psi(0,n))**2,label='Initial state,$t=0$')  \n",
    "# plt.plot(X, np.abs(simulation(psi(0,w0),0.5))**2,label='Finial state,$t=\\\\tau=14$')  # plotting the final state profile\n",
    "plt.plot(X, np.abs(simulation(psi(0,n),14,0.25))**2,label='Finial state,$t=\\\\tau=14$')  # plotting the final state profile\n",
    "plt.xlabel('X')\n",
    "plt.ylabel('$\\\\left|\\\\psi\\\\right|^2$')\n",
    "plt.legend()\n",
    "plt.show()"
   ]
  },
  {
   "attachments": {},
   "cell_type": "markdown",
   "metadata": {},
   "source": [
    "### Partition function"
   ]
  },
  {
   "cell_type": "code",
   "execution_count": null,
   "metadata": {},
   "outputs": [],
   "source": [
    "def Z(w,beta):\n",
    "    Z_0=0\n",
    "    for v in range(n):\n",
    "        energy = E(w,v) \n",
    "        Z_0 += np.exp(-beta * energy)  \n",
    "    return Z_0"
   ]
  },
  {
   "cell_type": "code",
   "execution_count": null,
   "metadata": {},
   "outputs": [],
   "source": [
    "print(Z(0.35,6))"
   ]
  },
  {
   "attachments": {},
   "cell_type": "markdown",
   "metadata": {},
   "source": [
    "### Helmholtz free energy difference $\\Delta F$"
   ]
  },
  {
   "cell_type": "code",
   "execution_count": null,
   "metadata": {},
   "outputs": [],
   "source": [
    "def delta_F(beta):\n",
    "    delta_F_0=1/beta*math.log(Z(0,beta)/Z(1,beta))\n",
    "    return delta_F_0"
   ]
  },
  {
   "attachments": {},
   "cell_type": "markdown",
   "metadata": {},
   "source": [
    "## Simulate the variance of Jarzynski Estimator of QHO for different $\\hbar \\beta$"
   ]
  },
  {
   "cell_type": "code",
   "execution_count": null,
   "metadata": {},
   "outputs": [],
   "source": [
    "# beta range\n",
    "beta_range = np.linspace(0.3, 8, 50)\n",
    "delta_beta = beta_range[1] - beta_range[0]"
   ]
  },
  {
   "attachments": {},
   "cell_type": "markdown",
   "metadata": {},
   "source": [
    "Function of $\\operatorname{var}\\left(e^{-\\beta W_{\\text {dis }}}\\right)=\\operatorname{var}\\left(e^{-\\beta W}\\right) / e^{-2 \\beta \\Delta F}$, with simulation time of $\\tau$."
   ]
  },
  {
   "cell_type": "code",
   "execution_count": null,
   "metadata": {},
   "outputs": [],
   "source": [
    "def var_list(tau):\n",
    "    var_list_0 = []\n",
    "    for beta in beta_range:\n",
    "        Z0= Z(0,beta)\n",
    "        DF= delta_F(beta)\n",
    "        Fm=0.0\n",
    "        Sm=0.0\n",
    "        for i in range(n):\n",
    "            for j in range(n):\n",
    "                psi0=psi(0, i)\n",
    "                psit=simulation(psi0,tau)\n",
    "                psi1=psi(1, j)\n",
    "                Fm+=np.exp(-beta*(E(1,j)-E(0,i)))*((abs(np.dot(psi1,psit)))**2)*(np.exp(-beta*E(0,i))/Z0)\n",
    "                Sm+=np.exp(-beta*(2*E(1,j)-E(0,i)))*((abs(np.dot(psi1,psit)))**2)/Z0\n",
    "        Var=Sm-Fm**2\n",
    "        Var_dis=Var/np.exp(-2*beta*DF)\n",
    "        var_list_0.append(Var_dis)\n",
    "    return var_list_0"
   ]
  },
  {
   "attachments": {},
   "cell_type": "markdown",
   "metadata": {},
   "source": [
    "Take $\\tau = 1.15$ and $\\tau=14$ for an example"
   ]
  },
  {
   "cell_type": "code",
   "execution_count": null,
   "metadata": {},
   "outputs": [],
   "source": [
    "var_list_2=var_list(20)"
   ]
  },
  {
   "cell_type": "code",
   "execution_count": null,
   "metadata": {},
   "outputs": [],
   "source": [
    "plt.plot(beta_range, var_list_1, label='$\\\\tau=1.15$')\n",
    "plt.plot(beta_range, var_list_2, label='$\\\\tau=14$')\n",
    "\n",
    "plt.xlabel(r'$ \\beta$')\n",
    "plt.ylabel(r'$Var(exp(-\\beta W_{dis})$')\n",
    "plt.title('Variance of Jarzynski Estimator of QHO')\n",
    "plt.ylim(0, 10)\n",
    "plt.yticks([0,5,10], ['0', '5', '10'])\n",
    "plt.legend() \n",
    "\n",
    "plt.xticks([0, 2, 4, 6, 8], ['0', '2', '4', '6', '8'])\n",
    "plt.show()"
   ]
  }
 ],
 "metadata": {
  "kernelspec": {
   "display_name": "base",
   "language": "python",
   "name": "python3"
  },
  "language_info": {
   "codemirror_mode": {
    "name": "ipython",
    "version": 3
   },
   "file_extension": ".py",
   "mimetype": "text/x-python",
   "name": "python",
   "nbconvert_exporter": "python",
   "pygments_lexer": "ipython3",
   "version": "3.10.12"
  },
  "orig_nbformat": 4
 },
 "nbformat": 4,
 "nbformat_minor": 2
}
