{
 "cells": [
  {
   "attachments": {},
   "cell_type": "markdown",
   "metadata": {},
   "source": [
    "# Hermite Defination: Divergence in the Variance of Jarzynski Estimator of QHO \n",
    "\n"
   ]
  },
  {
   "cell_type": "code",
   "execution_count": null,
   "metadata": {},
   "outputs": [],
   "source": [
    "# front matter\n",
    "import numpy as np\n",
    "import matplotlib.pyplot as plt\n",
    "import math\n",
    "from scipy.special import hermite\n",
    "from math import factorial\n",
    "\n",
    "# If your screen has retina display this will increase resolution of plots\n",
    "%config InlineBackend.figure_format = 'retina' "
   ]
  },
  {
   "cell_type": "code",
   "execution_count": null,
   "metadata": {},
   "outputs": [],
   "source": [
    "# Basic constants\n",
    "# grids\n",
    "N=2000 \n",
    "\n",
    "# spatial grid\n",
    "XMin=-50\n",
    "XMax=50\n",
    "X=np.linspace(XMin, XMax, N)\n",
    "\n",
    "# momentum grid\n",
    "P=(2*np.pi/(XMax-XMin))*np.concatenate((np.arange(N//2), np.arange(-N//2,0))) \n",
    "\n",
    "# Initial and final trapping frequencies\n",
    "w1=1 \n",
    "w0=0.35\n",
    "\n",
    "# states involved in the simulation\n",
    "n=30"
   ]
  },
  {
   "attachments": {},
   "cell_type": "markdown",
   "metadata": {},
   "source": [
    "## Function Defination"
   ]
  },
  {
   "attachments": {},
   "cell_type": "markdown",
   "metadata": {},
   "source": [
    "### Eigenfunction \n"
   ]
  },
  {
   "attachments": {},
   "cell_type": "markdown",
   "metadata": {},
   "source": [
    "Set $m=\\hbar=1$, then the analitical form of the wave function of QHO is following:\n",
    "$$\\psi_v(x)= K_v H_v(\\sqrt{\\omega} x) e^{-\\omega x^2 / 2}$$\n",
    "where $K_v=\\frac{1}{\\sqrt{2^v v !}}\\left(\\frac{ \\omega}{\\pi}\\right)^{1 / 4}$"
   ]
  },
  {
   "cell_type": "code",
   "execution_count": null,
   "metadata": {},
   "outputs": [],
   "source": [
    "def psi(w,v):\n",
    "    Hr=hermite(v)\n",
    "    if w==0:\n",
    "        Psix = 1./np.sqrt(np.sqrt(np.pi/w0)*2**v*factorial(v))*Hr(np.sqrt(w0)*X)*np.exp(-0.5*w0*X**2)\n",
    "    elif w==1:\n",
    "        Psix = 1./np.sqrt(np.sqrt(np.pi/w1)*2**v*factorial(v))*Hr(np.sqrt(w1)*X)*np.exp(-0.5*w1*X**2)\n",
    "    normal = np.sqrt(sum(abs(Psix)**2)) # normalization\n",
    "    return Psix/normal"
   ]
  },
  {
   "cell_type": "code",
   "execution_count": null,
   "metadata": {},
   "outputs": [],
   "source": [
    "# see an example of wavefunctions\n",
    "plt.plot(X, np.abs(psi(0,n))**2)  \n",
    "plt.plot(X, np.abs(psi(1,n))**2)  "
   ]
  },
  {
   "attachments": {},
   "cell_type": "markdown",
   "metadata": {},
   "source": [
    "### Eigenvalue \n"
   ]
  },
  {
   "attachments": {},
   "cell_type": "markdown",
   "metadata": {},
   "source": [
    "The eigenvalue of a QHO is $\\hbar \\omega(v+0.5)$"
   ]
  },
  {
   "cell_type": "code",
   "execution_count": null,
   "metadata": {},
   "outputs": [],
   "source": [
    "def E(w,v):\n",
    "    return w0*(v+0.5) if w==0 else w1*(v+0.5)\n",
    "print(E(1,29))"
   ]
  },
  {
   "attachments": {},
   "cell_type": "markdown",
   "metadata": {},
   "source": [
    "### Time operator"
   ]
  },
  {
   "cell_type": "code",
   "execution_count": null,
   "metadata": {},
   "outputs": [],
   "source": [
    "def simulation(v,tau,dt):\n",
    "    M=int(tau/dt)\n",
    "    psi_0 = psi(0, v)\n",
    "    for m in range(M):\n",
    "        UV = np.exp(-1j*(((w0+((w1-w0)/M)*m)*X)**2/2)*dt/2)\n",
    "        UT = np.exp(-1j*(P**2/2)*dt)  \n",
    "        psi_1 = UV*psi_0\n",
    "        phi_2 = np.fft.fft(psi_1)   # wavefunction in momentum space\n",
    "        phi_3 = UT*phi_2\n",
    "        psi_3 = np.fft.ifft(phi_3)\n",
    "        psi_4 = UV*psi_3\n",
    "        psi_0 = psi_4  # prepare a new cycle\n",
    "    return psi_0\n"
   ]
  },
  {
   "cell_type": "code",
   "execution_count": null,
   "metadata": {},
   "outputs": [],
   "source": [
    "# see an example\n",
    "plt.plot(X, np.abs(psi(0,0))**2,label='Initial state,$t=0$')  \n",
    "plt.plot(X, np.abs(simulation(0,14,0.25))**2,label='Finial state,$t=\\\\tau=14$')\n",
    "\n",
    "plt.xlabel('X')\n",
    "plt.ylabel('$\\\\left|\\\\psi\\\\right|^2$')\n",
    "plt.legend()\n",
    "plt.show()\n"
   ]
  },
  {
   "attachments": {},
   "cell_type": "markdown",
   "metadata": {},
   "source": [
    "### Partition function"
   ]
  },
  {
   "cell_type": "code",
   "execution_count": null,
   "metadata": {},
   "outputs": [],
   "source": [
    "def Z(w,beta):\n",
    "    return sum([np.exp(-beta * E(w,v)) for v in range(n)])"
   ]
  },
  {
   "cell_type": "code",
   "execution_count": null,
   "metadata": {},
   "outputs": [],
   "source": [
    "# Example\n",
    "print(Z(0,6))"
   ]
  },
  {
   "attachments": {},
   "cell_type": "markdown",
   "metadata": {},
   "source": [
    "### Helmholtz free energy difference $\\Delta F$"
   ]
  },
  {
   "cell_type": "code",
   "execution_count": null,
   "metadata": {},
   "outputs": [],
   "source": [
    "def delta_F(beta):\n",
    "    delta_F_0=1/beta*math.log(Z(0,beta)/Z(1,beta))\n",
    "    return delta_F_0"
   ]
  },
  {
   "cell_type": "code",
   "execution_count": null,
   "metadata": {},
   "outputs": [],
   "source": [
    "# Example\n",
    "print(delta_F(6))"
   ]
  },
  {
   "attachments": {},
   "cell_type": "markdown",
   "metadata": {},
   "source": [
    "## Simulate the variance of Jarzynski Estimator of QHO for different $\\hbar \\beta$"
   ]
  },
  {
   "cell_type": "code",
   "execution_count": null,
   "metadata": {},
   "outputs": [],
   "source": [
    "# beta range from 0.3 to 8\n",
    "beta_range = np.linspace(0.01, 10, 50)"
   ]
  },
  {
   "attachments": {},
   "cell_type": "markdown",
   "metadata": {},
   "source": [
    "Function of $\\operatorname{var}\\left(e^{-\\beta W_{\\text {dis }}}\\right)=\\operatorname{var}\\left(e^{-\\beta W}\\right) / e^{-2 \\beta \\Delta F}$, with simulation time of $\\tau$."
   ]
  },
  {
   "cell_type": "code",
   "execution_count": null,
   "metadata": {},
   "outputs": [],
   "source": [
    "def var_list(tau,dt):\n",
    "    var_list_0 = []\n",
    "    for beta in beta_range:\n",
    "        Z0= Z(0,beta)\n",
    "        DF= delta_F(beta)\n",
    "        Fm=0.0\n",
    "        Sm=0.0\n",
    "        for i in range(n):\n",
    "            for j in range(n):\n",
    "                psit=simulation(i,tau,dt)\n",
    "                psi1=psi(1,j)\n",
    "                abs_dot= abs(np.dot(psi1,psit))**2\n",
    "                Fm+=np.exp(-beta*E(1,j))*abs_dot/Z0\n",
    "                Sm+=np.exp(-beta*(2*E(1,j)-E(0,i)))*abs_dot/Z0\n",
    "        Var=Sm-Fm**2\n",
    "        Var_dis=Var/np.exp(-2*beta*DF)\n",
    "        var_list_0.append(Var_dis)\n",
    "    return var_list_0"
   ]
  },
  {
   "attachments": {},
   "cell_type": "markdown",
   "metadata": {},
   "source": [
    "Take $\\tau = 1.15$ and $\\tau=14$ for an example"
   ]
  },
  {
   "cell_type": "code",
   "execution_count": null,
   "metadata": {},
   "outputs": [],
   "source": [
    "var_list_1=var_list(2,0.1)"
   ]
  },
  {
   "cell_type": "code",
   "execution_count": null,
   "metadata": {},
   "outputs": [],
   "source": [
    "var_list_3=var_list(50,0.1)"
   ]
  },
  {
   "cell_type": "code",
   "execution_count": null,
   "metadata": {},
   "outputs": [],
   "source": [
    "# Time operator\n",
    "def simulation2(v,wp,tau,dt):\n",
    "    M = int(tau/dt)\n",
    "    psi_0 = psi(0, v)\n",
    "    for m in range(M):\n",
    "        UV = np.exp(-1j*((wp[m]*X)**2/2)*dt/2)\n",
    "        UT = np.exp(-1j*(P**2/2)*dt)  \n",
    "        psi_1 = UV*psi_0\n",
    "        phi_2 = np.fft.fft(psi_1)   # wavefunction in momentum space\n",
    "        phi_3 = UT*phi_2\n",
    "        psi_3 = np.fft.ifft(phi_3)\n",
    "        psi_4 = UV*psi_3\n",
    "        psi_0 = psi_4  # prepare a new cycle\n",
    "    return psi_0"
   ]
  },
  {
   "cell_type": "code",
   "execution_count": null,
   "metadata": {},
   "outputs": [],
   "source": [
    "def var_list2(wp,tau,dt):\n",
    "    var_list_0 = []\n",
    "    for beta in beta_range:\n",
    "        Z0= Z(0,beta)\n",
    "        DF= delta_F(beta)\n",
    "        Fm=0.0\n",
    "        Sm=0.0\n",
    "        for i in range(n):\n",
    "            for j in range(n):\n",
    "                psit=simulation2(i,wp,tau,dt)\n",
    "                psi1=psi(1,j)\n",
    "                abs_dot= abs(np.dot(psi1,psit))**2\n",
    "                Fm+=np.exp(-beta*E(1,j))*abs_dot/Z0\n",
    "                Sm+=np.exp(-beta*(2*E(1,j)-E(0,i)))*abs_dot/Z0\n",
    "        Var=Sm-Fm**2\n",
    "        Var_dis=Var/np.exp(-2*beta*DF)\n",
    "        var_list_0.append(Var_dis)\n",
    "    return var_list_0"
   ]
  },
  {
   "cell_type": "code",
   "execution_count": null,
   "metadata": {},
   "outputs": [],
   "source": [
    "work=[0.35, 0.35387089, 0.36908887, 0.4008702, 0.45557523, 0.54253862, 0.67661064, 0.88098802, 1.18958636, 1.64781994, 2.31020896, 3.23272882, 4.45725073, 5.98479837, 7.73366045, 9.47765518, 10.75903854, 10.76968468, 8.19324387, 1.0]\n",
    "var_list_4=var_list2(work,2,0.1)"
   ]
  },
  {
   "cell_type": "code",
   "execution_count": null,
   "metadata": {},
   "outputs": [],
   "source": [
    "# plot the variance\n",
    "plt.plot(beta_range, var_list_1, label='tau=2')\n",
    "# plt.plot(beta_range, var_list_2, label='tau=15')\n",
    "plt.plot(beta_range, var_list_3, label='tau=50')\n",
    "plt.plot(beta_range, var_list_4, label='tau=2 optimizd')\n",
    "\n",
    "\n",
    "plt.xlabel(r'$ \\hbar \\beta$')\n",
    "plt.ylabel(r'$Var(exp(-\\beta W_{dis})$')\n",
    "plt.title('Variance of Jarzynski Estimator of QHO')\n",
    "plt.ylim(0, 10)\n",
    "plt.xlim(0, 10)\n",
    "plt.legend() \n",
    "plt.show()"
   ]
  }
 ],
 "metadata": {
  "kernelspec": {
   "display_name": "base",
   "language": "python",
   "name": "python3"
  },
  "language_info": {
   "codemirror_mode": {
    "name": "ipython",
    "version": 3
   },
   "file_extension": ".py",
   "mimetype": "text/x-python",
   "name": "python",
   "nbconvert_exporter": "python",
   "pygments_lexer": "ipython3",
   "version": "3.11.4"
  },
  "orig_nbformat": 4
 },
 "nbformat": 4,
 "nbformat_minor": 2
}
