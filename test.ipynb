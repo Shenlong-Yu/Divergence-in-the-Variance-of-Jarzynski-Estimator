{
 "cells": [
  {
   "cell_type": "code",
   "execution_count": 2,
   "metadata": {},
   "outputs": [],
   "source": [
    "# front matter\n",
    "import numpy as np\n",
    "import matplotlib.pyplot as plt\n",
    "from scipy.optimize import minimize\n",
    "import scipy.linalg as la\n",
    "import pickle\n",
    "\n",
    "# If your screen has retina display this will increase resolution of plots\n",
    "%config InlineBackend.figure_format = 'retina' "
   ]
  },
  {
   "cell_type": "code",
   "execution_count": 3,
   "metadata": {},
   "outputs": [
    {
     "name": "stdout",
     "output_type": "stream",
     "text": [
      "最小值： -0.18814357989350808\n",
      "最优解： [0.29250893 1.84897234 1.84897233]\n",
      "迭代终止是否成功： True\n",
      "迭代终止原因： Optimization terminated successfully\n"
     ]
    }
   ],
   "source": [
    "e = 1e-10 # 非常接近0的值\n",
    "fun = lambda x : (x[0] - 0.667) / (x[0] + x[1] + x[2] - 2) # 约束函数\n",
    "cons = ({'type': 'eq', 'fun': lambda x: x[0] * x[1] * x[2] - 1}, # xyz=1\n",
    "        {'type': 'ineq', 'fun': lambda x: x[0] - e}, # x>=e，即 x > 0\n",
    "        {'type': 'ineq', 'fun': lambda x: x[1] - e},\n",
    "        {'type': 'ineq', 'fun': lambda x: x[2] - e}\n",
    "       )\n",
    "x0 = np.array((1.0, 1.0, 1.0)) # 设置初始值\n",
    "res = minimize(fun, x0, method='SLSQP', constraints=cons)\n",
    "print('最小值：',res.fun)\n",
    "print('最优解：',res.x)\n",
    "print('迭代终止是否成功：', res.success)\n",
    "print('迭代终止原因：', res.message)\n"
   ]
  },
  {
   "cell_type": "code",
   "execution_count": 7,
   "metadata": {},
   "outputs": [
    {
     "name": "stdout",
     "output_type": "stream",
     "text": [
      "0.33299999999999996\n",
      "-0.18814357989350808\n"
     ]
    }
   ],
   "source": [
    "print(fun(np.array((1.0, 1.0, 1.0)) ))\n",
    "print(fun(res.x ))"
   ]
  }
 ],
 "metadata": {
  "kernelspec": {
   "display_name": "base",
   "language": "python",
   "name": "python3"
  },
  "language_info": {
   "codemirror_mode": {
    "name": "ipython",
    "version": 3
   },
   "file_extension": ".py",
   "mimetype": "text/x-python",
   "name": "python",
   "nbconvert_exporter": "python",
   "pygments_lexer": "ipython3",
   "version": "3.11.4"
  },
  "orig_nbformat": 4
 },
 "nbformat": 4,
 "nbformat_minor": 2
}
