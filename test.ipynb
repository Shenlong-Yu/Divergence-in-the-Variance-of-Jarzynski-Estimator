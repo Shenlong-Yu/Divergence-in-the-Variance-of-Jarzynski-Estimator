{
 "cells": [
  {
   "cell_type": "code",
   "execution_count": 1,
   "metadata": {},
   "outputs": [],
   "source": [
    "# front matter\n",
    "import numpy as np\n",
    "import matplotlib.pyplot as plt\n",
    "from scipy.optimize import minimize\n",
    "import scipy.linalg as la\n",
    "import pickle\n",
    "\n",
    "# If your screen has retina display this will increase resolution of plots\n",
    "%config InlineBackend.figure_format = 'retina' "
   ]
  },
  {
   "cell_type": "code",
   "execution_count": 6,
   "metadata": {},
   "outputs": [
    {
     "name": "stdout",
     "output_type": "stream",
     "text": [
      "最优的 x_list: [-7.29887256e-09  8.98622589e-25]\n",
      "最小的目标函数值： 5.327354067486452e-17\n"
     ]
    }
   ],
   "source": [
    "# 定义目标函数和初值\n",
    "def objective(x):\n",
    "    return x[0]**2 + x[1]**2\n",
    "\n",
    "x0 = np.array([0.5, 1.5])\n",
    "\n",
    "# 定义限制条件\n",
    "cons = [{'type': 'ineq', 'fun': lambda x: x[i]} for i in range(x0.size)]\n",
    "\n",
    "# 执行优化\n",
    "res = minimize(objective, x0, constraints=cons)\n",
    "\n",
    "print(\"最优的 x_list:\", res.x)\n",
    "print(\"最小的目标函数值：\", res.fun)"
   ]
  }
 ],
 "metadata": {
  "kernelspec": {
   "display_name": "base",
   "language": "python",
   "name": "python3"
  },
  "language_info": {
   "codemirror_mode": {
    "name": "ipython",
    "version": 3
   },
   "file_extension": ".py",
   "mimetype": "text/x-python",
   "name": "python",
   "nbconvert_exporter": "python",
   "pygments_lexer": "ipython3",
   "version": "3.11.4"
  },
  "orig_nbformat": 4
 },
 "nbformat": 4,
 "nbformat_minor": 2
}
